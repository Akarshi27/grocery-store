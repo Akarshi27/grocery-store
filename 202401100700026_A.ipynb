{
  "nbformat": 4,
  "nbformat_minor": 0,
  "metadata": {
    "colab": {
      "provenance": []
    },
    "kernelspec": {
      "name": "python3",
      "display_name": "Python 3"
    },
    "language_info": {
      "name": "python"
    }
  },
  "cells": [
    {
      "cell_type": "code",
      "execution_count": 11,
      "metadata": {
        "colab": {
          "base_uri": "https://localhost:8080/"
        },
        "id": "V_8Cv_3vG1Sf",
        "outputId": "a832638f-45af-47e4-eb18-96a54c935d1d"
      },
      "outputs": [
        {
          "output_type": "stream",
          "name": "stdout",
          "text": [
            "Enter item name (or 'done' to finish): rice\n",
            "Enter price for rice: 250\n",
            "Enter quantity for rice: 1\n",
            "Enter item name (or 'done' to finish): done\n",
            "\n",
            "Grocery Cart:\n",
            "rice: Rs250.00 x 1 = Rs250.00\n",
            "Subtotal: Rs250.00\n",
            "After Discount: Rs237.50\n",
            "Tax: Rs16.62\n",
            "Total: Rs254.12\n",
            "\n"
          ]
        }
      ],
      "source": [
        "grocery_cart = {}\n",
        "tax_rate = 0.07\n",
        "\n",
        "while True:\n",
        "    item = input(\"Enter item name (or 'done' to finish): \")\n",
        "    if item.lower() == 'done':\n",
        "        break\n",
        "\n",
        "    price = float(input(f\"Enter price for {item}: \"))\n",
        "    quantity = int(input(f\"Enter quantity for {item}: \"))\n",
        "\n",
        "    if item in grocery_cart:\n",
        "        grocery_cart[item]['quantity'] += quantity\n",
        "    else:\n",
        "        grocery_cart[item] = {'price': price, 'quantity': quantity}\n",
        "\n",
        "print(\"\\nGrocery Cart:\")\n",
        "if grocery_cart:\n",
        "    subtotal = 0\n",
        "    for name, details in grocery_cart.items():\n",
        "        total_price = details['price'] * details['quantity']\n",
        "        subtotal += total_price\n",
        "        print(f\"{name}: Rs{details['price']:.2f} x {details['quantity']} = Rs{total_price:.2f}\")\n",
        "\n",
        "    if subtotal > 0:\n",
        "        if subtotal>=250:\n",
        "           disc=subtotal-((5/100)*subtotal)\n",
        "           tax = disc * tax_rate\n",
        "           total = disc + tax\n",
        "           print(f\"Subtotal: Rs{subtotal:.2f}\")\n",
        "           print(f\"After Discount: Rs{disc:.2f}\")\n",
        "           print(f\"Tax: Rs{tax:.2f}\")\n",
        "           print(f\"Total: Rs{total:.2f}\\n\")\n",
        "        else:\n",
        "          tax = subtotal * tax_rate\n",
        "          total = subtotal + tax\n",
        "          print(f\"Subtotal: Rs{subtotal:.2f}\")\n",
        "          print(f\"Tax: Rs{tax:.2f}\")\n",
        "          print(f\"Total: Rs{total:.2f}\\n\")\n",
        "\n",
        "    else:\n",
        "        tax = 0\n",
        "        total = 0\n",
        "else:\n",
        "    print(\"Your cart is empty.\\n\")\n",
        "\n"
      ]
    }
  ]
}